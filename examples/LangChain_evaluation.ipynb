{
 "cells": [
  {
   "cell_type": "markdown",
   "metadata": {},
   "source": [
    "# Langchain evaluator"
   ]
  },
  {
   "cell_type": "markdown",
   "metadata": {},
   "source": [
    "Example usage of custom evaluator using EvalMyAi to evaluate dataset on Langsmith"
   ]
  },
  {
   "cell_type": "code",
   "execution_count": null,
   "metadata": {},
   "outputs": [
    {
     "name": "stdout",
     "output_type": "stream",
     "text": [
      "Dataset already exists.\n"
     ]
    }
   ],
   "source": [
    "from langsmith import Client\n",
    "from evalmyai import Evaluator, AzureAuth, OpenAIAuth\n",
    "from langsmith.utils import LangSmithConflictError\n",
    "\n",
    "## Azure auth\n",
    "azure_endpoint = \"https://XXXXXXXXXXXXXXXXX.openai.azure.com/\"  # Replace with your Azure endpoint\n",
    "azure_api_key = \"XXXXXXXXXXXXXXXXXXXXXX\"  # Replace with your Azure OpenAI API key\n",
    "azure_api_version = \"2024-08-01-preview\"  # Replace with the desired API version\n",
    "azure_deployment_name = \"XXXXXXXXXXXXXXX\"  # Replace with your model deployment name\n",
    "\n",
    "# ## OpenAi auth\n",
    "# openAi_api_key = \"XXXX\"\n",
    "# openAi_model = \"gpt-4\" # select your model, we strongly recommend GPT-4.\n",
    "\n",
    "\n",
    "evalMyAi_token = \"XXXXXXXXXXXXXXXXXXXXXXXXXXXXXXXXXXXXXXXXXXXXXXXXXX\" \n",
    "\n",
    "\n",
    "# Evaluation dataset  \n",
    "data = {\n",
    "    \"How do astronauts adapt to long-term space travel?\": (\"They exercise, follow strict diets, and get psychological support to stay healthy in microgravity.\", \"Astronauts maintain fitness and mental health through exercise, diet, and communication with loved ones.\"),\n",
    "    \"What are the main contributors to greenhouse gas emissions?\": (\"Burning fossil fuels, deforestation, and industrial activities release carbon dioxide and methane.\", \"Fossil fuels and deforestation contribute to greenhouse gases, trapping heat and causing climate change.\"),\n",
    "    \"How is artificial intelligence transforming the healthcare industry?\": (\"AI improves diagnosis, automates tasks, and assists in surgeries with precision.\", \"AI speeds up medical work, helping doctors diagnose and treat patients more efficiently.\"),\n",
    "    \"What are the long-term effects of chronic stress on the human body?\": (\"Chronic stress weakens the immune system, raises heart disease risk, and affects mental health.\", \"Stress over time can harm the body, leading to illness and anxiety.\"),\n",
    "    \"How did the Industrial Revolution change global economies?\": (\"It boosted production, increased trade, and led to urbanization and factory jobs.\", \"Machines and factories changed how goods were made and where people lived.\"),\n",
    "    \"What are the ethical concerns surrounding facial recognition technology?\": (\"Privacy invasion, bias, and potential misuse in surveillance are key concerns.\", \"Some worry it violates privacy and unfairly targets certain groups.\"),\n",
    "    \"How do copyright laws protect digital content creators?\": (\"They grant exclusive rights, preventing unauthorized use or reproduction of creative work.\", \"Copyright lets creators control their work and stops others from copying it.\"),\n",
    "    \"What are the key differences between cloud computing and traditional computing?\": (\"Cloud computing offers remote access and scalability, while traditional computing uses local hardware.\", \"Cloud computing is flexible and online, while traditional computing relies on personal devices.\"),\n",
    "    \"Why is Python often recommended for beginners in programming?\": (\"It has simple syntax, is easy to learn, and is widely used in various fields.\", \"Python is beginner-friendly because it’s readable and used in many industries.\"),\n",
    "    \"In what types of projects is the waterfall model most effective?\": (\"It works best for projects with clear, fixed requirements and little need for changes.\", \"Waterfall is ideal when every step must be planned and followed strictly.\"),\n",
    "    \"How do vaccines work to protect against diseases?\": (\"They stimulate the immune system to recognize and fight viruses before infection occurs.\", \"Vaccines train the body to fight diseases by exposing it to harmless virus parts.\"),\n",
    "    \"Why is the James Webb Space Telescope important for space exploration?\": (\"It detects infrared light, allowing scientists to study distant galaxies and exoplanets.\", \"Webb helps explore deep space by capturing detailed images of stars and planets.\"),\n",
    "    \"What are the advantages and challenges of solar power?\": (\"It’s renewable and reduces emissions but depends on weather and requires storage.\", \"Solar energy is clean but costly and needs sunlight to work well.\"),\n",
    "    \"How does reinforcement learning differ from supervised learning?\": (\"Reinforcement learning learns from rewards, while supervised learning uses labeled data.\", \"One learns by trial and error; the other learns from pre-labeled examples.\"),\n",
    "    \"What are common types of cyber threats and how can they be prevented?\": (\"Phishing, malware, and data breaches can be prevented with strong passwords and updates.\", \"Hackers use malware and scams; security measures like updates help prevent attacks.\"),\n",
    "    \"How does blockchain technology ensure secure transactions?\": (\"It uses decentralization, cryptography, and consensus mechanisms to prevent fraud.\", \"Blockchain keeps records safe by using encryption and a distributed ledger.\"),\n",
    "    \"What are the potential benefits and risks of gene editing?\": (\"It can cure diseases but raises ethical concerns about unintended effects.\", \"Gene editing may fix genetic issues but could have unknown consequences.\"),\n",
    "    \"How is big data analytics being used in modern businesses?\": (\"It helps companies analyze trends, detect fraud, and improve decision-making.\", \"Big data allows businesses to predict customer behavior and enhance efficiency.\"),\n",
    "    \"What role does CRISPR play in genetic engineering?\": (\"CRISPR edits DNA precisely and is used in medicine and agriculture.\", \"CRISPR helps scientists change genes, possibly curing diseases.\"),\n",
    "    \"How does inflation impact the purchasing power of consumers?\": (\"It raises prices, making money worth less over time.\", \"Inflation makes goods more expensive, reducing what people can afford.\")\n",
    "}\n",
    "\n",
    "# Transform dictionary into list of tuples with only first answers\n",
    "transformed_data = [(question, answers[0]) for question, answers in data.items()]\n",
    "\n",
    "# Prepare inputs, outputs, and metadata for bulk creation\n",
    "inputs = [{\"question\": input_prompt} for input_prompt in data]\n",
    "outputs = [{\"answer\": output_answer[0]} for _, output_answer in data.items()]\n",
    "metadata = [{\"source\": \"EvalMyAi\"} for _ in data]\n",
    "\n",
    "\n",
    "client = Client()\n",
    "dataset_name = \"EvalMyAi dataset\"\n",
    "dataset= None\n",
    "\n",
    "try:\n",
    "  dataset = client.create_dataset(\n",
    "    dataset_name=dataset_name, description=\"Examplary EvalMyAi usage.\",\n",
    "  )\n",
    "  client.create_examples(\n",
    "    inputs=inputs,\n",
    "    outputs=outputs,\n",
    "    metadata=metadata,\n",
    "    dataset_id=dataset.id,\n",
    "  )\n",
    "except LangSmithConflictError:\n",
    "  print(\"Dataset already exists.\")\n",
    "  dataset = next(client.list_datasets(dataset_name=dataset_name))\n"
   ]
  },
  {
   "cell_type": "markdown",
   "metadata": {},
   "source": [
    "Simulating chatbot:"
   ]
  },
  {
   "cell_type": "code",
   "execution_count": 2,
   "metadata": {},
   "outputs": [],
   "source": [
    "def dummy_chatbot(inputs: dict) -> dict:\n",
    "    \n",
    "    question = inputs.get(\"question\")\n",
    "    for key, (_, response) in data.items():\n",
    "        if key == question:\n",
    "            return {\"answer\": response}\n",
    "\n",
    "    return {\"answer\": \"I don't know the answer.\"}"
   ]
  },
  {
   "cell_type": "markdown",
   "metadata": {},
   "source": [
    "Create EvalMyAi evaultor using Azure or OpenAI:"
   ]
  },
  {
   "cell_type": "code",
   "execution_count": 3,
   "metadata": {},
   "outputs": [],
   "source": [
    "auth_azure = AzureAuth(\n",
    "    api_key= azure_api_key,\n",
    "    azure_endpoint= azure_endpoint,\n",
    "    api_version= azure_api_version,\n",
    "    azure_deployment= azure_deployment_name,\n",
    ")\n",
    "ev = Evaluator(auth_azure, evalMyAi_token)"
   ]
  },
  {
   "cell_type": "code",
   "execution_count": 4,
   "metadata": {},
   "outputs": [],
   "source": [
    "# open_ai auth\n",
    "# auth_open_ai = OpenAIAuth (\n",
    "#     api_key= openAi_api_key,\n",
    "#     model= openAi_model \n",
    "# )\n",
    "\n",
    "# ev = Evaluator(auth_open_ai, evalMyAi_token)"
   ]
  },
  {
   "cell_type": "markdown",
   "metadata": {},
   "source": [
    "Define langsmith function for each metric:"
   ]
  },
  {
   "cell_type": "code",
   "execution_count": null,
   "metadata": {},
   "outputs": [],
   "source": [
    "def f1(outputs: dict, reference_outputs: dict) -> int:\n",
    "    data = {\"expected\": reference_outputs[\"answer\"], \"actual\": outputs[\"answer\"]}\n",
    "    return ev.evaluate(data, symbols=[\"f1\"])[\"f1\"][\"scores\"][\"f1\"]\n",
    "\n",
    "\n",
    "def contradictions(outputs: dict, reference_outputs: dict) -> int:\n",
    "    data = {\"expected\": reference_outputs[\"answer\"], \"actual\": outputs[\"answer\"]}\n",
    "    return ev.evaluate(data, symbols=[\"contradictions\"])[\"contradictions\"][\"scores\"][\n",
    "        \"score\"\n",
    "    ]"
   ]
  },
  {
   "cell_type": "markdown",
   "metadata": {},
   "source": [
    "Run lagsmith evalutation:"
   ]
  },
  {
   "cell_type": "code",
   "execution_count": null,
   "metadata": {},
   "outputs": [],
   "source": [
    "experiment_results = client.evaluate(\n",
    "    dummy_chatbot,\n",
    "    data=dataset,\n",
    "    evaluators=[\n",
    "        f1,\n",
    "        contradictions,\n",
    "    ],\n",
    "    experiment_prefix=\"evalMyAi\",\n",
    "    max_concurrency=1,\n",
    ")"
   ]
  }
 ],
 "metadata": {
  "kernelspec": {
   "display_name": ".venv",
   "language": "python",
   "name": "python3"
  },
  "language_info": {
   "codemirror_mode": {
    "name": "ipython",
    "version": 3
   },
   "file_extension": ".py",
   "mimetype": "text/x-python",
   "name": "python",
   "nbconvert_exporter": "python",
   "pygments_lexer": "ipython3",
   "version": "3.12.4"
  }
 },
 "nbformat": 4,
 "nbformat_minor": 2
}
